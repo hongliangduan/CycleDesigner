{
 "cells": [
  {
   "cell_type": "code",
   "execution_count": 1,
   "metadata": {},
   "outputs": [
    {
     "name": "stdout",
     "output_type": "stream",
     "text": [
      "Chain A Residue 24 - Chain B Residue 7: Distance = 4.48 Å\n",
      "Chain A Residue 174 - Chain B Residue 5: Distance = 3.82 Å\n",
      "Chain A Residue 175 - Chain B Residue 6: Distance = 4.73 Å\n",
      "Chain A Residue 177 - Chain B Residue 5: Distance = 4.70 Å\n",
      "Chain A Residue 193 - Chain B Residue 4: Distance = 4.07 Å\n",
      "Chain A Residue 195 - Chain B Residue 2: Distance = 4.24 Å\n",
      "Contact residues: {'<Residue SER het=  resseq=177 icode= >177', '<Residue PHE het=  resseq=24 icode= >24', '<Residue TRP het=  resseq=193 icode= >193', '<Residue SER het=  resseq=195 icode= >195', '<Residue GLY het=  resseq=175 icode= >175', '<Residue GLN het=  resseq=174 icode= >174'}\n",
      "Length of tar is 223, length of pep is 14\n",
      "Target extracted and saved to /home/yons/inputs/1sfi_tar.pdb\n",
      "Done\n"
     ]
    }
   ],
   "source": [
    "from calc_distance import main\n",
    "from extract_tar import extract_tar_chain\n",
    "\n",
    "input_pdb = '/home/yons/lab/zch/localcolabfold/outputdir/cyc_mul_test/1sfi_0825/1sfi_unrelaxed_rank_001_alphafold2_multimer_v3_model_5_seed_000.pdb'\n",
    "main(input_pdb, 'A', 'B')\n",
    "extract_tar_chain(input_pdb)\n",
    "\n",
    "print('Done')\n",
    "\n"
   ]
  },
  {
   "cell_type": "code",
   "execution_count": 22,
   "metadata": {},
   "outputs": [
    {
     "name": "stdout",
     "output_type": "stream",
     "text": [
      "No missing residues found.\n",
      "fixed pdb saved to/home/yons/inputs/pdbfixer/rfd_native/fixed/7k2f.pdb\n"
     ]
    }
   ],
   "source": [
    "from fix_pdb import fix_missing_residues_and_gaps\n",
    "\n",
    "fix_missing_residues_and_gaps(\"/home/yons/inputs/pdbfixer/rfd_native/7k2f.pdb\",\"/home/yons/inputs/pdbfixer/rfd_native/fixed/7k2f.pdb\")"
   ]
  },
  {
   "cell_type": "code",
   "execution_count": null,
   "metadata": {},
   "outputs": [],
   "source": []
  }
 ],
 "metadata": {
  "kernelspec": {
   "display_name": "base",
   "language": "python",
   "name": "python3"
  },
  "language_info": {
   "codemirror_mode": {
    "name": "ipython",
    "version": 3
   },
   "file_extension": ".py",
   "mimetype": "text/x-python",
   "name": "python",
   "nbconvert_exporter": "python",
   "pygments_lexer": "ipython3",
   "version": "3.9.18"
  }
 },
 "nbformat": 4,
 "nbformat_minor": 2
}
