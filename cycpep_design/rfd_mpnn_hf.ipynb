{
 "cells": [
  {
   "cell_type": "markdown",
   "metadata": {},
   "source": [
    "## extract sequence in pdb files, write to fasta file"
   ]
  },
  {
   "cell_type": "code",
   "execution_count": 1,
   "metadata": {},
   "outputs": [],
   "source": [
    "from extractseq import main\n",
    "\n",
    "# 遍历pdb文件，提取fasta\n",
    "input_folder = '/home/yons/inputs/sh'\n",
    "output_folder = '/home/yons/inputs/sh/'\n",
    "main(input_folder, output_folder)\n"
   ]
  },
  {
   "cell_type": "markdown",
   "metadata": {},
   "source": [
    "## mpnn output .fa files\n",
    "## replace 2nd chain in fasta file\n",
    "## save as input of prediction model "
   ]
  },
  {
   "cell_type": "code",
   "execution_count": 3,
   "metadata": {},
   "outputs": [],
   "source": [
    "from replacedesignedseq import main\n",
    "\n",
    "# 替换序列，输出位置为fa_folder文件夹下的new文件夹\n",
    "fa_folder = \"/home/yons/inputs/sh/seqs\"\n",
    "fasta_folder = \"/home/yons/inputs/sh/\"\n",
    "main(fa_folder, fasta_folder)"
   ]
  },
  {
   "cell_type": "markdown",
   "metadata": {},
   "source": [
    "## HighFold output, log parser to csv\n",
    "### 241107 add ipae\n",
    "fasta files path needed\n",
    "### 241108 add rmsd to backbone\n",
    "backbone pdb files path needed "
   ]
  },
  {
   "cell_type": "code",
   "execution_count": 1,
   "metadata": {},
   "outputs": [
    {
     "name": "stdout",
     "output_type": "stream",
     "text": [
      "Data written to /home/yons/lab/zch/rfd2HF/outputdir/shcd3/log_ipae_rmsd.csv\n"
     ]
    },
    {
     "data": {
      "text/plain": [
       "'done'"
      ]
     },
     "execution_count": 1,
     "metadata": {},
     "output_type": "execute_result"
    }
   ],
   "source": [
    "# 提取log、计算ipae、计算rmsd to backbone，写入csv\n",
    "# csv column： protein_id, backbone, seqid, rank, folder, file, plddt, ptm, iptm, ipae, rmsd\n",
    "from log_parser_tryrmsd import extract_plddt_from_folder\n",
    "from log_parser_tryrmsd import write_to_file\n",
    "\n",
    "folder_path = \"/home/yons/lab/zch/rfd2HF/outputdir/shcd3\"\n",
    "output_file = \"/home/yons/lab/zch/rfd2HF/outputdir/shcd3/log_ipae_rmsd.csv\"\n",
    "fasta_dir = \"/home/yons/lab/zch/rfd2HF/inputdir/shcd3\"\n",
    "native_dir = \"/home/yons/lab/zch/cycpep_design/data/cd3\"\n",
    "\n",
    "metrics = extract_plddt_from_folder(folder_path, fasta_dir, native_dir)\n",
    "write_to_file(metrics, output_file)"
   ]
  },
  {
   "cell_type": "markdown",
   "metadata": {},
   "source": [
    "## cal rmsd（to backbone）\n",
    "## 2422108 暂停使用，已添加到上面的代码栏"
   ]
  },
  {
   "cell_type": "code",
   "execution_count": 2,
   "metadata": {},
   "outputs": [
    {
     "name": "stdout",
     "output_type": "stream",
     "text": [
      "Data written to /home/yons/lab/zch/cycpep_design/data/20T_log_all.csv\n"
     ]
    },
    {
     "data": {
      "text/plain": [
       "0"
      ]
     },
     "execution_count": 2,
     "metadata": {},
     "output_type": "execute_result"
    }
   ],
   "source": [
    "from log_parser_backup11 import extract_plddt_from_folder\n",
    "from log_parser_backup11 import write_to_file\n",
    "\n",
    "\n",
    "pdb_dir = \"/home/yons/lab/zch/rfd2HF/outputdir/1025\"\n",
    "native_dir = \"/home/yons/lab/zch/cycpep_design/data/1025_20T_B\"\n",
    "output_file = \"/home/yons/lab/zch/cycpep_design/data/20T_log_all.csv\"\n",
    "\n",
    "metrics = extract_plddt_from_folder(pdb_dir, native_dir)\n",
    "write_to_file(metrics, output_file)"
   ]
  },
  {
   "cell_type": "markdown",
   "metadata": {},
   "source": [
    "## filter, extract pdb files\n",
    "提取出的文件需要下载传入 rosetta 计算能量函数"
   ]
  },
  {
   "cell_type": "code",
   "execution_count": 1,
   "metadata": {},
   "outputs": [
    {
     "data": {
      "text/plain": [
       "'done'"
      ]
     },
     "execution_count": 1,
     "metadata": {},
     "output_type": "execute_result"
    }
   ],
   "source": [
    "from filter import filter\n",
    "\n",
    "csv_file = \"/home/yons/lab/zch/rfd2HF/outputdir/1104_H_25T/log_ipae_rmsd.csv\"\n",
    "to_rosetta = \"/home/yons/lab/zch/cycpep_design/HF2rosetta/1116_<035\"\n",
    "\n",
    "\n",
    "filter(csv_file, to_rosetta)\n"
   ]
  }
 ],
 "metadata": {
  "kernelspec": {
   "display_name": "base",
   "language": "python",
   "name": "python3"
  },
  "language_info": {
   "codemirror_mode": {
    "name": "ipython",
    "version": 3
   },
   "file_extension": ".py",
   "mimetype": "text/x-python",
   "name": "python",
   "nbconvert_exporter": "python",
   "pygments_lexer": "ipython3",
   "version": "3.9.18"
  }
 },
 "nbformat": 4,
 "nbformat_minor": 2
}
